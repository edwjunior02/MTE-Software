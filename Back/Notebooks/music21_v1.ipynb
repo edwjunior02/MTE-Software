{
  "nbformat": 4,
  "nbformat_minor": 0,
  "metadata": {
    "colab": {
      "name": "music21_v1.ipynb",
      "provenance": [],
      "collapsed_sections": []
    },
    "kernelspec": {
      "name": "python3",
      "display_name": "Python 3"
    }
  },
  "cells": [
    {
      "cell_type": "markdown",
      "metadata": {
        "id": "7ayYu78SYWs7"
      },
      "source": [
        "# Set up music21 and MuseScore to use in Google Colab"
      ]
    },
    {
      "cell_type": "code",
      "metadata": {
        "id": "0bh1YgqP56Gq",
        "colab": {
          "base_uri": "https://localhost:8080/"
        },
        "outputId": "de66c238-5cf7-4d45-9a32-c94b192efbba"
      },
      "source": [
        "!pip install --upgrade music21"
      ],
      "execution_count": 1,
      "outputs": [
        {
          "output_type": "stream",
          "name": "stdout",
          "text": [
            "Looking in indexes: https://pypi.org/simple, https://us-python.pkg.dev/colab-wheels/public/simple/\n",
            "Requirement already satisfied: music21 in /usr/local/lib/python3.7/dist-packages (5.5.0)\n",
            "Collecting music21\n",
            "  Downloading music21-7.3.3-py3-none-any.whl (22.4 MB)\n",
            "\u001b[K     |████████████████████████████████| 22.4 MB 1.5 MB/s \n",
            "\u001b[?25hCollecting jsonpickle\n",
            "  Downloading jsonpickle-2.2.0-py2.py3-none-any.whl (39 kB)\n",
            "Requirement already satisfied: joblib in /usr/local/lib/python3.7/dist-packages (from music21) (1.1.0)\n",
            "Requirement already satisfied: matplotlib in /usr/local/lib/python3.7/dist-packages (from music21) (3.2.2)\n",
            "Requirement already satisfied: more-itertools in /usr/local/lib/python3.7/dist-packages (from music21) (8.13.0)\n",
            "Collecting webcolors>=1.5\n",
            "  Downloading webcolors-1.12-py3-none-any.whl (9.9 kB)\n",
            "Requirement already satisfied: numpy in /usr/local/lib/python3.7/dist-packages (from music21) (1.21.6)\n",
            "Requirement already satisfied: chardet in /usr/local/lib/python3.7/dist-packages (from music21) (3.0.4)\n",
            "Requirement already satisfied: importlib-metadata in /usr/local/lib/python3.7/dist-packages (from jsonpickle->music21) (4.11.4)\n",
            "Requirement already satisfied: zipp>=0.5 in /usr/local/lib/python3.7/dist-packages (from importlib-metadata->jsonpickle->music21) (3.8.0)\n",
            "Requirement already satisfied: typing-extensions>=3.6.4 in /usr/local/lib/python3.7/dist-packages (from importlib-metadata->jsonpickle->music21) (4.1.1)\n",
            "Requirement already satisfied: kiwisolver>=1.0.1 in /usr/local/lib/python3.7/dist-packages (from matplotlib->music21) (1.4.3)\n",
            "Requirement already satisfied: python-dateutil>=2.1 in /usr/local/lib/python3.7/dist-packages (from matplotlib->music21) (2.8.2)\n",
            "Requirement already satisfied: pyparsing!=2.0.4,!=2.1.2,!=2.1.6,>=2.0.1 in /usr/local/lib/python3.7/dist-packages (from matplotlib->music21) (3.0.9)\n",
            "Requirement already satisfied: cycler>=0.10 in /usr/local/lib/python3.7/dist-packages (from matplotlib->music21) (0.11.0)\n",
            "Requirement already satisfied: six>=1.5 in /usr/local/lib/python3.7/dist-packages (from python-dateutil>=2.1->matplotlib->music21) (1.15.0)\n",
            "Installing collected packages: webcolors, jsonpickle, music21\n",
            "  Attempting uninstall: music21\n",
            "    Found existing installation: music21 5.5.0\n",
            "    Uninstalling music21-5.5.0:\n",
            "      Successfully uninstalled music21-5.5.0\n",
            "Successfully installed jsonpickle-2.2.0 music21-7.3.3 webcolors-1.12\n"
          ]
        }
      ]
    },
    {
      "cell_type": "code",
      "metadata": {
        "id": "8r3K2_Tu7NUo",
        "colab": {
          "base_uri": "https://localhost:8080/"
        },
        "outputId": "81a07d1b-5068-4a22-cd06-2473ce4452a8"
      },
      "source": [
        "!add-apt-repository ppa:mscore-ubuntu/mscore-stable -y\n",
        "!apt-get update\n",
        "!apt-get install musescore"
      ],
      "execution_count": null,
      "outputs": [
        {
          "output_type": "stream",
          "name": "stdout",
          "text": [
            "\r0% [Working]\r            \rGet:1 http://security.ubuntu.com/ubuntu bionic-security InRelease [88.7 kB]\n",
            "Hit:2 https://developer.download.nvidia.com/compute/cuda/repos/ubuntu1804/x86_64  InRelease\n",
            "Get:3 https://cloud.r-project.org/bin/linux/ubuntu bionic-cran40/ InRelease [3,626 B]\n",
            "Get:4 http://ppa.launchpad.net/c2d4u.team/c2d4u4.0+/ubuntu bionic InRelease [15.9 kB]\n",
            "Hit:5 http://archive.ubuntu.com/ubuntu bionic InRelease\n",
            "Ign:6 https://developer.download.nvidia.com/compute/machine-learning/repos/ubuntu1804/x86_64  InRelease\n",
            "Hit:7 https://developer.download.nvidia.com/compute/machine-learning/repos/ubuntu1804/x86_64  Release\n",
            "Get:8 http://archive.ubuntu.com/ubuntu bionic-updates InRelease [88.7 kB]\n",
            "Hit:9 http://ppa.launchpad.net/cran/libgit2/ubuntu bionic InRelease\n",
            "Get:10 http://security.ubuntu.com/ubuntu bionic-security/universe amd64 Packages [1,521 kB]\n",
            "Get:11 http://archive.ubuntu.com/ubuntu bionic-backports InRelease [74.6 kB]\n",
            "Hit:12 http://ppa.launchpad.net/deadsnakes/ppa/ubuntu bionic InRelease\n",
            "Get:13 http://security.ubuntu.com/ubuntu bionic-security/multiverse amd64 Packages [22.8 kB]\n",
            "Get:14 http://security.ubuntu.com/ubuntu bionic-security/restricted amd64 Packages [1,013 kB]\n",
            "Get:15 http://ppa.launchpad.net/graphics-drivers/ppa/ubuntu bionic InRelease [21.3 kB]\n",
            "Get:16 http://security.ubuntu.com/ubuntu bionic-security/main amd64 Packages [2,866 kB]\n",
            "Get:17 http://ppa.launchpad.net/mscore-ubuntu/mscore-stable/ubuntu bionic InRelease [15.4 kB]\n",
            "Get:19 http://ppa.launchpad.net/c2d4u.team/c2d4u4.0+/ubuntu bionic/main Sources [2,064 kB]\n",
            "Get:20 http://ppa.launchpad.net/c2d4u.team/c2d4u4.0+/ubuntu bionic/main amd64 Packages [1,058 kB]\n",
            "Get:21 http://archive.ubuntu.com/ubuntu bionic-updates/main amd64 Packages [3,298 kB]\n",
            "Get:22 http://archive.ubuntu.com/ubuntu bionic-updates/universe amd64 Packages [2,297 kB]\n",
            "Get:23 http://archive.ubuntu.com/ubuntu bionic-updates/multiverse amd64 Packages [29.8 kB]\n",
            "Get:24 http://archive.ubuntu.com/ubuntu bionic-updates/restricted amd64 Packages [1,047 kB]\n",
            "Get:25 http://archive.ubuntu.com/ubuntu bionic-backports/main amd64 Packages [12.2 kB]\n",
            "Get:26 http://ppa.launchpad.net/graphics-drivers/ppa/ubuntu bionic/main amd64 Packages [47.8 kB]\n",
            "Get:27 http://ppa.launchpad.net/mscore-ubuntu/mscore-stable/ubuntu bionic/main amd64 Packages [1,831 B]\n",
            "Fetched 15.6 MB in 7s (2,218 kB/s)\n",
            "Reading package lists... Done\n",
            "Hit:1 http://security.ubuntu.com/ubuntu bionic-security InRelease\n",
            "Hit:2 https://developer.download.nvidia.com/compute/cuda/repos/ubuntu1804/x86_64  InRelease\n",
            "Hit:3 https://cloud.r-project.org/bin/linux/ubuntu bionic-cran40/ InRelease\n",
            "Ign:4 https://developer.download.nvidia.com/compute/machine-learning/repos/ubuntu1804/x86_64  InRelease\n",
            "Hit:5 http://archive.ubuntu.com/ubuntu bionic InRelease\n",
            "Hit:6 https://developer.download.nvidia.com/compute/machine-learning/repos/ubuntu1804/x86_64  Release\n",
            "Hit:7 http://ppa.launchpad.net/c2d4u.team/c2d4u4.0+/ubuntu bionic InRelease\n",
            "Hit:8 http://archive.ubuntu.com/ubuntu bionic-updates InRelease\n",
            "Hit:9 http://archive.ubuntu.com/ubuntu bionic-backports InRelease\n",
            "Hit:10 http://ppa.launchpad.net/cran/libgit2/ubuntu bionic InRelease\n",
            "Hit:11 http://ppa.launchpad.net/deadsnakes/ppa/ubuntu bionic InRelease\n",
            "Hit:12 http://ppa.launchpad.net/graphics-drivers/ppa/ubuntu bionic InRelease\n",
            "Hit:13 http://ppa.launchpad.net/mscore-ubuntu/mscore-stable/ubuntu bionic InRelease\n",
            "0% [9 InRelease gpgv 74.6 kB]"
          ]
        }
      ]
    },
    {
      "cell_type": "code",
      "metadata": {
        "id": "Yxxz3oEIVkeI"
      },
      "source": [
        "!apt-get install xvfb"
      ],
      "execution_count": null,
      "outputs": []
    },
    {
      "cell_type": "code",
      "metadata": {
        "id": "CP91XD_o8nr4"
      },
      "source": [
        "from music21 import *\n",
        "us = environment.UserSettings()\n",
        "us['musescoreDirectPNGPath'] = '/usr/bin/mscore'\n",
        "us['directoryScratch'] = '/tmp'\n",
        "\n",
        "# music21 is Open Source under the BSD License\n",
        "# Copyright (c) 2006-20 Michael Scott Cuthbert and cuthbertLab\n",
        "# Support music21 by citing it in your research:\n",
        "# Cuthbert, Michael Scott.  _music21: a Toolkit for Computer-Aided Music Research_, http://web.mit.edu/music21. 2006-20."
      ],
      "execution_count": null,
      "outputs": []
    },
    {
      "cell_type": "markdown",
      "metadata": {
        "id": "6C3G6bMAYQSz"
      },
      "source": [
        "# Begin music21 code here..."
      ]
    },
    {
      "cell_type": "code",
      "metadata": {
        "id": "RtkrxnZAYVg7"
      },
      "source": [
        "from music21 import *\n",
        "import json\n",
        "\n",
        "\n"
      ],
      "execution_count": null,
      "outputs": []
    },
    {
      "cell_type": "code",
      "metadata": {
        "id": "RQE81xRKZhTV"
      },
      "source": [
        "from google.colab import drive\n",
        "drive.mount('/content/drive')\n",
        "\n",
        "%cd \"/content/drive/MyDrive/index_json\"\n",
        "\n"
      ],
      "execution_count": null,
      "outputs": []
    },
    {
      "cell_type": "code",
      "metadata": {
        "id": "9soHIBXeiTjP"
      },
      "source": [
        "soprano = ['C4','C#4','D4','E-4', 'E4', 'F4','F#4', 'G4', 'G#4','A4', 'B-4','B4', 'C5','C#5', 'D5', 'E-5','E5','F5', 'F#5','G5','G#5', 'A5', 'B-5','B5', 'C6',]\n",
        "mezzo_soprano = ['A3','B-3','B3','C4','C#4','D4','E-4', 'E4', 'F4','F#4', 'G4', 'G#4','A4', 'B-4','B4', 'C5','C#5', 'D5', 'E-5','E5','F5', 'F#5','G5']\n",
        "alto =['F3','F#3', 'G3','A3','B-3','B3','C4','C#4','D4','E-4', 'E4', 'F4','F#4', 'G4', 'G#4','A4', 'B-4','B4', 'C5','C#5', 'D5']#G#3\n",
        "tenor = ['B2','C3','C#3','D3','E-3', 'E3','F3','F#3', 'G3','A3','B-3','B3','C4','C#4','D4','E-4', 'E4', 'F4','F#4', 'G4']#G#3\n",
        "baritono =['G2', 'G#2','A2', 'B-2','B2','C3','C#3','D3','E-3', 'E3','F3','F#3', 'G3','A3','B-3','B3','C4','C#4','D4','E-4', 'E4',]#G#3\n",
        "bass=['E2', 'F2','F#2','G2', 'G#2','A2', 'B-2','B2','C3','C#3','D3','E-3', 'E3','F3','F#3', 'G3','A3','B-3','B3','C4']#mhe deixat el sol sustingut :(\n",
        "notes = {}\n",
        "easy = ['M2','M3','P5','P8']\n",
        "medium = ['m2','M2','m3','M3','P4','P5','P7']\n",
        "difficult = ['m2','M2','m3','M3','P4','d5','P5','m6','M6','m7','M7','P8']\n",
        "\n",
        "\n",
        "def get_intervals(vrange):\n",
        "  intervals = ([])  \n",
        "  \n",
        "  for idx, n1 in enumerate(vrange):\n",
        "    id = str(0)+\".jpg\"\n",
        "    ##--ascendientes\n",
        "    for idx2,semitones in enumerate(range(1,13)):\n",
        "      i = interval.Interval(semitones)\n",
        "      p1 = pitch.Pitch(n1)\n",
        "      p2 = i.transposePitch(pitch.Pitch(p1))\n",
        "      score = stream.Stream()\n",
        "      ##Afexir l'interval a la llista \n",
        "      if vrange.count(p2.nameWithOctave) > 0 :\n",
        "        inter = (p1.nameWithOctave,p2.nameWithOctave,i.name,'a') #ascendiente\n",
        "        intervals.append(inter)\n",
        "        if i.name in easy:\n",
        "          id = f\"{(idx+1)*1000+idx2}ea.jpg\"\n",
        "        elif i.name in medium:\n",
        "          id = f\"{(idx+1)*1000+idx2}ma.jpg\"\n",
        "        else:\n",
        "          id = f\"{(idx+1)*1000+idx2}dajpg\"\n",
        "        notes[id] = {\n",
        "            \"n1\":p1.nameWithOctave,\n",
        "            \"n2\":p2.nameWithOctave,\n",
        "            \"f1\":p1.frequency,\n",
        "            \"f2\":p2.frequency,\n",
        "            \"name\":i.name\n",
        "        }\n",
        "        b = notes[id]\n",
        "        b1= note.Note(b[\"n1\"])\n",
        "        b2= note.Note(b[\"n2\"])\n",
        "        b1.quarterLength = 2.0\n",
        "        b2.quarterLength = 2.0\n",
        "        score.append(b1)\n",
        "        score.append(b2)\n",
        "        #score.write(fp = id, fmt = \"musicxml.png\") #tarda un xic, descomentrar al executar\n",
        "        #s.write(fp = 'outputfile.png', fmt = 'png') no descomentar\n",
        "        \n",
        "        inter = (p1.nameWithOctave,p2.nameWithOctave,i.name,'a') #ascendiente\n",
        "        intervals.append(inter)\n",
        "        if i.name in easy:\n",
        "          id = f\"{((idx+1)*1000+idx2)}ed.jpg\"\n",
        "        elif i.name in medium:\n",
        "          id = f\"{((idx+1)*1000+idx2)}md.jpg\"\n",
        "        else:\n",
        "          id = f\"{((idx+1)*1000+idx2)}dd.jpg\"\n",
        "        notes[id] = {\n",
        "            \"n1\":p2.nameWithOctave,\n",
        "            \"n2\":p1.nameWithOctave,\n",
        "            \"f1\":p1.frequency,\n",
        "            \"f2\":p2.frequency,\n",
        "            \"name\":i.name\n",
        "        }\n",
        "        b = notes[id]\n",
        "        b1= note.Note(b[\"n1\"])\n",
        "        b2= note.Note(b[\"n2\"])\n",
        "        b1.quarterLength = 2.0\n",
        "        b2.quarterLength = 2.0\n",
        "        score.append(b1)\n",
        "        score.append(b2)\n",
        "\n",
        "  return intervals\n",
        "\n",
        "def save_json(dictionary, name_file):\n",
        "    with open(name_file, 'w') as fp:\n",
        "        json.dump(dictionary, fp, sort_keys=True, indent=4)\n",
        "\n",
        "get_intervals(bass)\n",
        "print(notes)\n",
        "\n",
        "#save_json(notes,'/content/drive/MyDrive/index_json/index_bass_4.json')\n"
      ],
      "execution_count": null,
      "outputs": []
    },
    {
      "cell_type": "code",
      "source": [
        "def load_json(name_file):\n",
        "    data = None\n",
        "    with open(name_file, 'r') as fp:\n",
        "        data = json.load(fp)\n",
        "    return data\n",
        "\n",
        "def choose_exercise(difficulty, range_type):\n",
        "    index = load_json(f\"index_{range_type}.json\")\n",
        "    # TODO marina\n",
        "    return id_piece, path_piece\n",
        "\n",
        "def save_json(dictionary, name_file):\n",
        "    with open(name_file, ‘w’) as fp:\n",
        "        json.dump(dictionary, fp, sort_keys=True, indent=4)"
      ],
      "metadata": {
        "id": "OgVNRHmvlG_z"
      },
      "execution_count": null,
      "outputs": []
    },
    {
      "cell_type": "code",
      "source": [
        "from random import randrange, uniform\n",
        "soprano = ['C4','C#4','D4','E-4', 'E4', 'F4','F#4', 'G4', 'G#4','A4', 'B-4','B4', 'C5','C#5', 'D5', 'E-5','E5','F5', 'F#5','G5','G#5', 'A5', 'B-5','B5', 'C6',]\n",
        "mezzo_soprano = ['A3','B-3','B3','C4','C#4','D4','E-4', 'E4', 'F4','F#4', 'G4', 'G#4','A4', 'B-4','B4', 'C5','C#5', 'D5', 'E-5','E5','F5', 'F#5','G5']\n",
        "alto =['F3','F#3', 'G3','A3','B-3','B3','C4','C#4','D4','E-4', 'E4', 'F4','F#4', 'G4', 'G#4','A4', 'B-4','B4', 'C5','C#5', 'D5']#G#3\n",
        "tenor = ['B2','C3','C#3','D3','E-3', 'E3','F3','F#3', 'G3','A3','B-3','B3','C4','C#4','D4','E-4', 'E4', 'F4','F#4', 'G4']#G#3\n",
        "baritono =['G2', 'G#2','A2', 'B-2','B2','C3','C#3','D3','E-3', 'E3','F3','F#3', 'G3','A3','B-3','B3','C4','C#4','D4','E-4', 'E4',]#G#3\n",
        "bass=['E2', 'F2','F#2','G2', 'G#2','A2', 'B-2','B2','C3','C#3','D3','E-3', 'E3','F3','F#3', 'G3','A3','B-3','B3','C4']#mhe deixat el sol sustingut :(\n",
        "notes = {}\n",
        "easy = ['M2','M3','P5','P8']\n",
        "medium = ['m2','M2','m3','M3','P4','P5','P7']\n",
        "difficult = ['m2','M2','m3','M3','P4','d5','P5','m6','M6','m7','M7','P8']\n",
        "\n",
        "def load_json(name_file):\n",
        "    data = None\n",
        "    with open(name_file, 'r') as fp:\n",
        "        data = json.load(fp)\n",
        "    return data\n",
        "\n",
        "def choose_exercise(difficulty,range_type_str,range_type):\n",
        "    index_name = \"index_\" + range_type_str\n",
        "    #index_name = index_name+range_type\n",
        "    #index = load_json(f\"{index_name}.json\")DESCOMMENTAAAR!\n",
        "    index = load_json(\"index_bass_4.json\")\n",
        "    # TODO marina\n",
        "    print(index)\n",
        "   # dic = load_json(index)\n",
        "    \n",
        "    if difficulty == 'easy':\n",
        "      diff = 'e'\n",
        "    elif difficulty == 'medium':\n",
        "      diff = 'm'      \n",
        "    elif difficulty == 'difficult':\n",
        "      diff = 'd'\n",
        "\n",
        "    size = len(range_type)\n",
        "    rand = 1000*randrange(0, size)\n",
        "    rand_i = randrange(0, 11)\n",
        "    frand = uniform(0, 1)\n",
        "    if frand  < 0.5:\n",
        "      ad = 'a'\n",
        "    else:\n",
        "      ad = 'd'\n",
        "    \n",
        "    n_id = rand + rand_i\n",
        "    id = f\"{n_id}{diff}{ad}.jpg\"\n",
        "    print(id)\n",
        "    if id in index:\n",
        "      return 1\n",
        "    else:\n",
        "      count = 0\n",
        "      while id not in index:##pot ser que entri en un bucle infinit\n",
        "        count +=1\n",
        "        n_id = n_id -1\n",
        "        id = f\"{n_id}{diff}{ad}.jpg\"\n",
        "        if count == 5:\n",
        "          count = 0\n",
        "          rand = 1000*randrange(0, size)\n",
        "          n_id = rand + rand_i\n",
        "          id = f\"{n_id}{diff}{ad}.jpg\"\n",
        "        print(\"id: \", id)  \n",
        "\n",
        "    if id in index:\n",
        "      return 1\n",
        "    return 0\n",
        "    #return id_piece, path_piece\n",
        "\n",
        "choose_exercise(\"easy\",\"bass\",bass)"
      ],
      "metadata": {
        "id": "6RWcf2n-oRKz"
      },
      "execution_count": null,
      "outputs": []
    },
    {
      "cell_type": "code",
      "source": [
        "from random import randrange, uniform\n",
        "soprano = ['C4','C#4','D4','E-4', 'E4', 'F4','F#4', 'G4', 'G#4','A4', 'B-4','B4', 'C5','C#5', 'D5', 'E-5','E5','F5', 'F#5','G5','G#5', 'A5', 'B-5','B5', 'C6',]\n",
        "mezzo_soprano = ['A3','B-3','B3','C4','C#4','D4','E-4', 'E4', 'F4','F#4', 'G4', 'G#4','A4', 'B-4','B4', 'C5','C#5', 'D5', 'E-5','E5','F5', 'F#5','G5']\n",
        "alto =['F3','F#3', 'G3','A3','B-3','B3','C4','C#4','D4','E-4', 'E4', 'F4','F#4', 'G4', 'G#4','A4', 'B-4','B4', 'C5','C#5', 'D5']#G#3\n",
        "tenor = ['B2','C3','C#3','D3','E-3', 'E3','F3','F#3', 'G3','A3','B-3','B3','C4','C#4','D4','E-4', 'E4', 'F4','F#4', 'G4']#G#3\n",
        "baritono =['G2', 'G#2','A2', 'B-2','B2','C3','C#3','D3','E-3', 'E3','F3','F#3', 'G3','A3','B-3','B3','C4','C#4','D4','E-4', 'E4',]#G#3\n",
        "bass=['E2', 'F2','F#2','G2', 'G#2','A2', 'B-2','B2','C3','C#3','D3','E-3', 'E3','F3','F#3', 'G3','A3','B-3','B3','C4']#mhe deixat el sol sustingut :(\n",
        "notes = {}\n",
        "easy = ['M2','M3','P5','P8']\n",
        "medium = ['m2','M2','m3','M3','P4','P5','P7']\n",
        "difficult = ['m2','M2','m3','M3','P4','d5','P5','m6','M6','m7','M7','P8']\n",
        "\n",
        "def load_json(name_file):\n",
        "    data = None\n",
        "    with open(name_file, 'r') as fp:\n",
        "        data = json.load(fp)\n",
        "    return data\n",
        "\n",
        "def choose_exercise1(difficulty,range_type_str,vrange):\n",
        "  id_e = ([])  \n",
        "  id_m = ([])\n",
        "  id_d = ([])\n",
        "  for idx, n1 in enumerate(vrange):\n",
        "    id = str(0)+\".jpg\"\n",
        "    ##--ascendientes\n",
        "    for idx2,semitones in enumerate(range(1,13)):\n",
        "      i = interval.Interval(semitones)\n",
        "      p1 = pitch.Pitch(n1)\n",
        "      p2 = i.transposePitch(pitch.Pitch(p1))\n",
        "      score = stream.Stream()\n",
        "      ##Afexir l'interval a la llista \n",
        "      if vrange.count(p2.nameWithOctave) > 0 :\n",
        "        \n",
        "        if i.name in easy:\n",
        "          id = f\"e{(idx*1000+idx2)}.jpg\"\n",
        "          id_e.append(id)\n",
        "        elif i.name in medium:\n",
        "          id = f\"m{(idx*1000+idx2)}.jpg\"\n",
        "          id_m.append(id)\n",
        "        else:\n",
        "          id = f\"d{(idx*1000+idx2)}.jpg\"\n",
        "          id_d.append(id)\n",
        "\n",
        "        if i.name in easy:\n",
        "          id = f\"-e{(idx*1000+idx2)}.jpg\"\n",
        "          id_e.append(id)\n",
        "        elif i.name in medium:\n",
        "          id = f\"-m{(idx*1000+idx2)}.jpg\"\n",
        "          id_m.append(id)\n",
        "        else:\n",
        "          id = f\"-d{(idx*1000+idx2)}.jpg\"\n",
        "          id_d.append(id)\n",
        "\n",
        "    if difficulty == \"easy\":\n",
        "      size = len(id_e)\n",
        "      rand = randrange(0, size)\n",
        "      return id_e[rand]\n",
        "    if difficulty == \"medium\":\n",
        "      size = len(id_m)\n",
        "      rand = randrange(0, size)\n",
        "      return id_m[rand]\n",
        "    if difficulty == \"difficult\":\n",
        "      size = len(id_d)\n",
        "      rand = randrange(0, size)\n",
        "      return id_d[rand]\n",
        "\n",
        "\n",
        "\n",
        "choose_exercise1(\"easy\",\"bass\",bass)"
      ],
      "metadata": {
        "id": "zdhaPrBQDL7v"
      },
      "execution_count": null,
      "outputs": []
    }
  ]
}